{
 "cells": [
  {
   "cell_type": "markdown",
   "id": "e3663a38",
   "metadata": {},
   "source": [
    "\n",
    "\n",
    "This notebook demonstrates the use of Dash to display the results of analysis discussed in Pat Walter's ***'Comparing Classification Models - You’re Probably Doing It Wrong'***\n",
    "[post](http://practicalcheminformatics.blogspot.com/2023/11/comparing-classification-models-youre.html)\n",
    "\n"
   ]
  },
  {
   "cell_type": "code",
   "execution_count": 1,
   "id": "1ae0fcda",
   "metadata": {},
   "outputs": [],
   "source": [
    "import dash\n",
    "from dash import dcc, html\n",
    "from dash import dash_table\n",
    "from dash.dependencies import Input, Output\n",
    "from dash_bootstrap_templates import template_from_url\n",
    "import dash_bootstrap_components as dbc\n",
    "\n",
    "import pandas as pd\n",
    "import scipy.stats as stats\n",
    "import matplotlib.pyplot as plt\n",
    "import pingouin as pg\n",
    "\n",
    "import seaborn as sns\n",
    "from sklearn.metrics import roc_auc_score, average_precision_score, matthews_corrcoef\n",
    "import plotly.express as px"
   ]
  },
  {
   "cell_type": "code",
   "execution_count": 2,
   "id": "5fc73cad",
   "metadata": {},
   "outputs": [],
   "source": [
    "###function copied from the original post\n",
    "\n",
    "def calc_classification_metrics(df_in, cycle_col, val_col, prob_col, pred_col):\n",
    "    \"\"\"\n",
    "    Calculate classification metrics (ROC AUC, PR AUC, MCC)\n",
    "    :param df_in: input dataframe must contain columns [method, split] as well the columns specified in the arguments\n",
    "    :param cycle_col: column indicating the cross-validation fold\n",
    "    :param val_col: column with the group truth value\n",
    "    :param prob_col: column with probability (e.g. from sklearn predict_proba)\n",
    "    :param pred_col: column with binary predictions (e.g. from sklearn predict)\n",
    "    :return: a dataframe with [cv_cycle, method, split, roc_auc, pr_auc, mcc]\n",
    "    \"\"\"\n",
    "    metric_list = []\n",
    "    for k, v in df_in.groupby([cycle_col, \"method\", \"split\"]):\n",
    "        cycle, method, split = k\n",
    "        roc_auc = roc_auc_score(v[val_col], v[prob_col])\n",
    "        pr_auc = average_precision_score(v[val_col], v[prob_col])\n",
    "        mcc = matthews_corrcoef(v[val_col], v[pred_col])\n",
    "        metric_list.append([cycle, method, split, roc_auc, pr_auc, mcc])\n",
    "    metric_df = pd.DataFrame(metric_list, columns=[\"cv_cycle\", \"method\", \"split\", \"roc_auc\", \"pr_auc\", \"mcc\"])\n",
    "    return metric_df\n"
   ]
  },
  {
   "cell_type": "code",
   "execution_count": 3,
   "id": "75166a8e",
   "metadata": {},
   "outputs": [],
   "source": [
    "df = pd.read_csv(\"BSEP_classification_ChemProp_LightGBM.csv\")\n",
    "#df.head()"
   ]
  },
  {
   "cell_type": "code",
   "execution_count": 4,
   "id": "b5c6f71b",
   "metadata": {},
   "outputs": [],
   "source": [
    "df_metrics = calc_classification_metrics(df,\n",
    "                                         cycle_col=\"cv_cycle\",\n",
    "                                         val_col=\"BSEP\",\n",
    "                                         prob_col=\"BSEP_prob\",\\\n",
    "                                         pred_col=\"BSEP_pred\")"
   ]
  },
  {
   "cell_type": "code",
   "execution_count": 5,
   "id": "41a54f23",
   "metadata": {
    "scrolled": false
   },
   "outputs": [
    {
     "data": {
      "text/html": [
       "\n",
       "        <iframe\n",
       "            width=\"100%\"\n",
       "            height=\"650\"\n",
       "            src=\"http://127.0.0.1:8050/\"\n",
       "            frameborder=\"0\"\n",
       "            allowfullscreen\n",
       "            \n",
       "        ></iframe>\n",
       "        "
      ],
      "text/plain": [
       "<IPython.lib.display.IFrame at 0x7fd21463a5b0>"
      ]
     },
     "metadata": {},
     "output_type": "display_data"
    }
   ],
   "source": [
    "# Dash app\n",
    "\n",
    "\n",
    "app = dash.Dash(__name__, external_stylesheets=[dbc.themes.BOOTSTRAP])\n",
    "\n",
    "\n",
    "# Define the layout of the dashboard. We will have two sets of radio buttons to pick the split and metric\n",
    "# We will also need an html div to display the Friedman's coefficient and div for our graph\n",
    "\n",
    "app.layout = html.Div([\n",
    "  html.H2(\"Comparing Distributions Across Cross-Validation Folds\"),\n",
    "    html.Div([\n",
    "        html.Div([\n",
    "            html.Label('Select split:'),\n",
    "            dcc.RadioItems(\n",
    "        id='radio-selector',\n",
    "        options=[\n",
    "            {'label': 'Random', 'value': 'random'},\n",
    "            {'label': 'Scaffold', 'value': 'scaffold'}\n",
    "        ],\n",
    "        value='random',\n",
    "            \n",
    "        labelStyle={'display': 'inline-block','border': '1px solid #ddd', 'border-radius': '5px', \n",
    "                    'cursor': 'pointer', 'background-color': 'grey','padding':'2px'}\n",
    "            ),\n",
    "        ], style={ 'padding': '10px', 'margin-right': '50px', 'display': 'inline-block','width': '20%'}),\n",
    "\n",
    "    html.Div([\n",
    "    html.Label('Select metric:'),\n",
    "\n",
    "    dbc.RadioItems(\n",
    "            id=\"method-selector\",\n",
    "        options=[\n",
    "            {'label': 'ROC AUC', 'value': 'roc_auc'},\n",
    "            {'label': 'PR AUC', 'value': 'pr_auc'},\n",
    "            {'label': 'MCC', 'value': 'mcc'}\n",
    "        ],\n",
    "        value='roc_auc',\n",
    "   inline=True,\n",
    "         labelStyle={'display': 'inline-block','border': '1px solid #ddd', 'border-radius': '5px', \n",
    "                     'cursor': 'pointer', 'background-color': 'grey','padding':'2px'}\n",
    "        ),\n",
    "        ], style={'padding': '10px', 'margin-right': '50px', 'display': 'inline-block'}),\n",
    "       \n",
    "    ]),\n",
    "\n",
    " html.Div([\n",
    "        html.Div(id='friedman-coefficient-output', style={'padding': '10px','background-color': '#272B30','color': 'orange'}),\n",
    "        dcc.Graph(id='graph'),\n",
    "    ], style={'position': 'relative'})\n",
    "])\n",
    "   \n",
    "    \n",
    "\n",
    "# Define callback to update the selection based on radio button selection\n",
    "\n",
    "@app.callback(\n",
    "    Output(\"graph\", \"figure\"),\n",
    "    Output('friedman-coefficient-output', 'children'),\n",
    "    Input('radio-selector', 'value'),\n",
    "    Input(\"method-selector\", \"value\")\n",
    "\n",
    "\n",
    ")\n",
    "\n",
    "\n",
    "\n",
    "def update_graph(selected_subset,method_selector):\n",
    "    # Filter the data based on the selected split\n",
    "    filtered_df = df_metrics[(df_metrics['split'] == selected_subset)]\n",
    "    \n",
    "\n",
    "    # Create the box plot using Plotly Express\n",
    "    fig = px.box(filtered_df, x='method', y=method_selector,color='method')\n",
    "          \n",
    "    # Prettify the graph\n",
    "    fig.update_layout(transition_duration=500)   \n",
    "    fig.update_layout(template='plotly_dark',\n",
    "                      plot_bgcolor='#272B30', \n",
    "                      paper_bgcolor='#272B30',\n",
    "                      yaxis_tickformat=\",.2f\",\n",
    "                      yaxis_title=method_selector.replace(\"_\", \" \").upper(),\n",
    "                      xaxis_title='',\n",
    "                      showlegend = False\n",
    "                      \n",
    "                  )\n",
    "    \n",
    "    friedman = pg.friedman(data=filtered_df, dv=method_selector,within=\"method\", subject=\"cv_cycle\")['p-unc'].values[0].round(3)\n",
    "    friedman_output=f\"Friedman Coefficient p-value: {friedman}\"\n",
    "\n",
    "\n",
    "    return fig, friedman_output\n",
    "\n",
    "\n",
    "# Run the app\n",
    "if __name__ == '__main__':\n",
    "    app.run_server(debug=True)\n",
    "    \n",
    "    \n"
   ]
  },
  {
   "cell_type": "code",
   "execution_count": null,
   "id": "d037b343",
   "metadata": {},
   "outputs": [],
   "source": []
  }
 ],
 "metadata": {
  "kernelspec": {
   "display_name": "Python 3 (ipykernel)",
   "language": "python",
   "name": "python3"
  },
  "language_info": {
   "codemirror_mode": {
    "name": "ipython",
    "version": 3
   },
   "file_extension": ".py",
   "mimetype": "text/x-python",
   "name": "python",
   "nbconvert_exporter": "python",
   "pygments_lexer": "ipython3",
   "version": "3.8.13"
  }
 },
 "nbformat": 4,
 "nbformat_minor": 5
}
